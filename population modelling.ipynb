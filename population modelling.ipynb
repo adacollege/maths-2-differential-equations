{
 "cells": [
  {
   "cell_type": "code",
   "execution_count": 1,
   "metadata": {},
   "outputs": [],
   "source": [
    "import matplotlib.pyplot as plt"
   ]
  },
  {
   "cell_type": "markdown",
   "metadata": {},
   "source": [
    "## Population Modelling##\n",
    "Population growth can be modelled mathematically. This is usually easiest to do with bacteria, which divide over a fixed time period. This means that the change in population over some fixed time period is proportional to the population:\n",
    "$$\\Delta P \\propto P$$\n",
    "$$\\Rightarrow \\Delta P = kP$$\n",
    "Set up a function which increments the global variable t (representing time period) by 1, and increases the globalvariable pop according to the above relationship."
   ]
  },
  {
   "cell_type": "code",
   "execution_count": 2,
   "metadata": {},
   "outputs": [],
   "source": [
    "# global variables to represent population, time and a constant\n",
    "pop = 1\n",
    "t = 0\n",
    "k = 0.5\n",
    "\n",
    "# define function here\n"
   ]
  },
  {
   "cell_type": "code",
   "execution_count": 3,
   "metadata": {},
   "outputs": [
    {
     "data": {
      "text/plain": [
       "(0, 1)"
      ]
     },
     "execution_count": 3,
     "metadata": {},
     "output_type": "execute_result"
    }
   ],
   "source": [
    "#Test your function here\n",
    "(t,pop)"
   ]
  },
  {
   "cell_type": "markdown",
   "metadata": {},
   "source": [
    "Create arrays to store the succesive values of t and pop, then using the matplotlib library create a graph of the population over time."
   ]
  },
  {
   "cell_type": "code",
   "execution_count": null,
   "metadata": {},
   "outputs": [],
   "source": [
    "# code to store values and plot"
   ]
  },
  {
   "cell_type": "markdown",
   "metadata": {
    "slideshow": {
     "slide_type": "slide"
    }
   },
   "source": [
    "In reality we would not expect our bacteria to continue population growth indefinitely (why not?)\n",
    "\n",
    "A different model for population growth is given by the relationship\n",
    "\n",
    "$$\\Delta P \\propto P\\Big(1-\\frac{P}{K}\\Big)$$\n",
    "\n",
    "Where $K$ is a constant referred to as the \"carrying capacity\" - i.e. the maximum number of a species which can be supported in the environment. This is sometimes referred to as a Verhulst model or logistic model.\n",
    "\n",
    "Try setting up a reccurence relationship (as above) for this model and see what happens."
   ]
  },
  {
   "cell_type": "code",
   "execution_count": 4,
   "metadata": {},
   "outputs": [],
   "source": [
    "# reset values of global variables\n",
    "pop = 1\n",
    "t = 0\n",
    "k = 0.5\n",
    "capacity = 100\n",
    "\n",
    "# define function"
   ]
  },
  {
   "cell_type": "markdown",
   "metadata": {},
   "source": [
    "## Other difference models ##\n",
    "We already know how to model the behaviour of an object under gravity, but so far we have ignored the effect of air resistance. Air resistance acts on a falling object with a force proportional to the velocity of the object. Resolvign this force with the objects weight due to gravity, we have the following relationship:\n",
    "\n",
    "$$\\frac{dv}{dt}\\propto g - cv^2$$\n",
    "\n",
    "We don't yet know how to solve this equation to find an expression for v, but we can model this with a difference relationship. This model says that over some fixed time period $\\Delta t$,\n",
    "\n",
    "$$\\Delta v \\propto g - cv^2$$\n",
    "\n",
    "As above, set up a function to update the values of global variables t and v (c, k and g are constants)."
   ]
  },
  {
   "cell_type": "code",
   "execution_count": 5,
   "metadata": {},
   "outputs": [],
   "source": [
    "# set values of global variables\n",
    "v = 0\n",
    "t = 0\n",
    "g = 10\n",
    "k = 0.01\n",
    "c = 5\n",
    "\n",
    "# define function"
   ]
  }
 ],
 "metadata": {
  "hide_input": false,
  "kernelspec": {
   "display_name": "Python 3",
   "language": "python",
   "name": "python3"
  },
  "language_info": {
   "codemirror_mode": {
    "name": "ipython",
    "version": 3
   },
   "file_extension": ".py",
   "mimetype": "text/x-python",
   "name": "python",
   "nbconvert_exporter": "python",
   "pygments_lexer": "ipython3",
   "version": "3.6.8"
  }
 },
 "nbformat": 4,
 "nbformat_minor": 2
}
